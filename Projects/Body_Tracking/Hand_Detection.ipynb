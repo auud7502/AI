{
  "nbformat": 4,
  "nbformat_minor": 0,
  "metadata": {
    "colab": {
      "provenance": [],
      "authorship_tag": "ABX9TyNnTypmtYM6FdKqzrJ1VY/2",
      "include_colab_link": true
    },
    "kernelspec": {
      "name": "python3",
      "display_name": "Python 3"
    },
    "language_info": {
      "name": "python"
    }
  },
  "cells": [
    {
      "cell_type": "markdown",
      "metadata": {
        "id": "view-in-github",
        "colab_type": "text"
      },
      "source": [
        "<a href=\"https://colab.research.google.com/github/auud7502/AI/blob/main/Projects/Body_Tracking/Hand_Detection.ipynb\" target=\"_parent\"><img src=\"https://colab.research.google.com/assets/colab-badge.svg\" alt=\"Open In Colab\"/></a>"
      ]
    },
    {
      "cell_type": "code",
      "execution_count": 7,
      "metadata": {
        "colab": {
          "base_uri": "https://localhost:8080/"
        },
        "id": "4Us5NnLhVDze",
        "outputId": "50fede07-1007-48ce-9bb3-f29a58e779f8"
      },
      "outputs": [
        {
          "output_type": "stream",
          "name": "stdout",
          "text": [
            "Requirement already satisfied: mediapipe in /usr/local/lib/python3.10/dist-packages (0.10.9)\n",
            "Requirement already satisfied: absl-py in /usr/local/lib/python3.10/dist-packages (from mediapipe) (1.4.0)\n",
            "Requirement already satisfied: attrs>=19.1.0 in /usr/local/lib/python3.10/dist-packages (from mediapipe) (23.2.0)\n",
            "Requirement already satisfied: flatbuffers>=2.0 in /usr/local/lib/python3.10/dist-packages (from mediapipe) (23.5.26)\n",
            "Requirement already satisfied: matplotlib in /usr/local/lib/python3.10/dist-packages (from mediapipe) (3.7.1)\n",
            "Requirement already satisfied: numpy in /usr/local/lib/python3.10/dist-packages (from mediapipe) (1.23.5)\n",
            "Requirement already satisfied: opencv-contrib-python in /usr/local/lib/python3.10/dist-packages (from mediapipe) (4.8.0.76)\n",
            "Requirement already satisfied: protobuf<4,>=3.11 in /usr/local/lib/python3.10/dist-packages (from mediapipe) (3.20.3)\n",
            "Requirement already satisfied: sounddevice>=0.4.4 in /usr/local/lib/python3.10/dist-packages (from mediapipe) (0.4.6)\n",
            "Requirement already satisfied: CFFI>=1.0 in /usr/local/lib/python3.10/dist-packages (from sounddevice>=0.4.4->mediapipe) (1.16.0)\n",
            "Requirement already satisfied: contourpy>=1.0.1 in /usr/local/lib/python3.10/dist-packages (from matplotlib->mediapipe) (1.2.0)\n",
            "Requirement already satisfied: cycler>=0.10 in /usr/local/lib/python3.10/dist-packages (from matplotlib->mediapipe) (0.12.1)\n",
            "Requirement already satisfied: fonttools>=4.22.0 in /usr/local/lib/python3.10/dist-packages (from matplotlib->mediapipe) (4.47.2)\n",
            "Requirement already satisfied: kiwisolver>=1.0.1 in /usr/local/lib/python3.10/dist-packages (from matplotlib->mediapipe) (1.4.5)\n",
            "Requirement already satisfied: packaging>=20.0 in /usr/local/lib/python3.10/dist-packages (from matplotlib->mediapipe) (23.2)\n",
            "Requirement already satisfied: pillow>=6.2.0 in /usr/local/lib/python3.10/dist-packages (from matplotlib->mediapipe) (9.4.0)\n",
            "Requirement already satisfied: pyparsing>=2.3.1 in /usr/local/lib/python3.10/dist-packages (from matplotlib->mediapipe) (3.1.1)\n",
            "Requirement already satisfied: python-dateutil>=2.7 in /usr/local/lib/python3.10/dist-packages (from matplotlib->mediapipe) (2.8.2)\n",
            "Requirement already satisfied: pycparser in /usr/local/lib/python3.10/dist-packages (from CFFI>=1.0->sounddevice>=0.4.4->mediapipe) (2.21)\n",
            "Requirement already satisfied: six>=1.5 in /usr/local/lib/python3.10/dist-packages (from python-dateutil>=2.7->matplotlib->mediapipe) (1.16.0)\n"
          ]
        }
      ],
      "source": [
        "!pip install mediapipe"
      ]
    },
    {
      "cell_type": "code",
      "source": [
        "import mediapipe as mp\n",
        "import cv2 #opencv to connect to our webcam\n",
        "import numpy as np\n",
        "import os\n",
        "import uuid #creates unique identifier"
      ],
      "metadata": {
        "id": "4mmQCfcmXKwr"
      },
      "execution_count": 8,
      "outputs": []
    },
    {
      "cell_type": "markdown",
      "source": [
        "## **Input Images**"
      ],
      "metadata": {
        "id": "mQuYhov3s759"
      }
    },
    {
      "cell_type": "code",
      "source": [
        "mp_drawing = mp.solutions.drawing_utils  #render all the different landmarks on the hand\n",
        "mp_hands = mp.solutions.hands"
      ],
      "metadata": {
        "id": "FW_gvwhDZxm4"
      },
      "execution_count": 9,
      "outputs": []
    },
    {
      "cell_type": "code",
      "source": [
        "cap = cv2.VideoCapture(0) #getting our webcam feed\n",
        "\n",
        "with mp_hands.Hands(min_detection_confidence=0.8,min_tracking_confidence=0.5, max_num_hands = 2) as hands:\n",
        "  while cap.isOpened():  #while connected to webcam\n",
        "    ret, frame = cap.read() #read each frame from webcam; frame = image from webcam; ret = return value\n",
        "\n",
        "    #BGR 2 RGB\n",
        "    image = cv2.cvtColor(frame, cv2.COLOR_BGR2RGB)\n",
        "\n",
        "    #flip on horizontal\n",
        "    image =cv2.flip(image, 1)\n",
        "\n",
        "    #set flag\n",
        "    image.flags.writeable = False\n",
        "\n",
        "    #Detection\n",
        "    results = hands.process(image)\n",
        "\n",
        "    #Set flag as true(now we can draw on this image)\n",
        "    image.flags.writeable = True\n",
        "\n",
        "    #RGB 2 BGR\n",
        "    image = cv2.cvtColor(image,cv2.COLOR_RGB2BGR)\n",
        "\n",
        "    #allows us to see our detections\n",
        "    print(results)\n",
        "\n",
        "    #rendering results\n",
        "    if results.multi_hand_landmarks:\n",
        "      for num,hand in enumerate(results.multi_hand_landmarks):\n",
        "        mp_drawing.draw_landmarks(image,hand,mp_hands.HAND_CONNECTIONS,\n",
        "                                  mp_drawing.DrawingSpec(color=(121,22,76),thickness =2,circle_radius = 4),  #circle landmarks BGR\n",
        "                                  mp_drawing.DrawingSpec(color=(250,44,250),thickness=2,circle_radius=2),    #line BGR\n",
        "        )\n",
        "\n",
        "    cv2.imshow(\"Hand Tracking\", image) #render that image to the screen\n",
        "\n",
        "    #to closedown the window by either hitting q or closing window\n",
        "    if cv2.waitKey(10) & 0xFF == ord('q'):\n",
        "      break\n",
        "\n",
        "cap.release()\n",
        "cv2.destroyAllWindows()"
      ],
      "metadata": {
        "id": "5CQFeaPYbybR"
      },
      "execution_count": 16,
      "outputs": []
    },
    {
      "cell_type": "code",
      "source": [
        "results.multi_hand_landmarks"
      ],
      "metadata": {
        "id": "yTKUMEmtfUNV"
      },
      "execution_count": null,
      "outputs": []
    },
    {
      "cell_type": "markdown",
      "source": [
        "## **OutPut Images**"
      ],
      "metadata": {
        "id": "V3GTWKLQsw8s"
      }
    },
    {
      "cell_type": "code",
      "source": [
        "#to create a new directory to save images\n",
        "os.mkdir('Output Images')"
      ],
      "metadata": {
        "id": "d4Q1uJgGsvUZ"
      },
      "execution_count": null,
      "outputs": []
    },
    {
      "cell_type": "code",
      "source": [
        "cap = cv2.VideoCapture(0) #getting our webcam feed\n",
        "\n",
        "with mp_hands.Hands(min_detection_confidence=0.8,min_tracking_confidence=0.5, max_num_hands = 2) as hands:\n",
        "  while cap.isOpened():  #while connected to webcam\n",
        "    ret, frame = cap.read() #read each frame from webcam; frame = image from webcam; ret = return value\n",
        "\n",
        "    #BGR 2 RGB\n",
        "    image = cv2.cvtColor(frame, cv2.COLOR_BGR2RGB)\n",
        "\n",
        "    #flip on horizontal\n",
        "    image =cv2.flip(image, 1)\n",
        "\n",
        "    #set flag\n",
        "    image.flags.writeable = False\n",
        "\n",
        "    #Detection\n",
        "    results = hands.process(image)\n",
        "\n",
        "    #Set flag as true(now we can draw on this image)\n",
        "    image.flags.writeable = True\n",
        "\n",
        "    #RGB 2 BGR\n",
        "    image = cv2.cvtColor(image,cv2.COLOR_RGB2BGR)\n",
        "\n",
        "    #allows us to see our detections\n",
        "    print(results)\n",
        "\n",
        "    #rendering results\n",
        "    if results.multi_hand_landmarks:\n",
        "      for num,hand in enumerate(results.multi_hand_landmarks):\n",
        "        mp_drawing.draw_landmarks(image,hand,mp_hands.HAND_CONNECTIONS,\n",
        "                                  mp_drawing.DrawingSpec(color=(121,22,76),thickness =2,circle_radius = 4),  #circle landmarks BGR\n",
        "                                  mp_drawing.DrawingSpec(color=(250,44,250),thickness=2,circle_radius=2),    #line BGR\n",
        "        )\n",
        "\n",
        "    cv2.imwrite(os.path.join(\n",
        "        'Output Images',\n",
        "        '().jpg'.format(uuid.uuid1())), #naming our image\n",
        "                image)\n",
        "    cv2.imshow(\"Hand Tracking\", image) #render that image to the screen\n",
        "\n",
        "    #to closedown the window by either hitting q or closing window\n",
        "    if cv2.waitKey(10) & 0xFF == ord('q'):\n",
        "      break\n",
        "\n",
        "cap.release()\n",
        "cv2.destroyAllWindows()"
      ],
      "metadata": {
        "id": "pm83V1nPtjBj"
      },
      "execution_count": null,
      "outputs": []
    },
    {
      "cell_type": "code",
      "source": [],
      "metadata": {
        "id": "Exrxew3CuXqe"
      },
      "execution_count": null,
      "outputs": []
    }
  ]
}